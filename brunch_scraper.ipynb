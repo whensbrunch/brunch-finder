{
 "cells": [
  {
   "cell_type": "code",
   "execution_count": 2,
   "metadata": {},
   "outputs": [],
   "source": [
    "from urllib.request import urlopen\n",
    "from bs4 import BeautifulSoup\n",
    "import time\n",
    "import pandas as pd\n",
    "import ast"
   ]
  },
  {
   "cell_type": "code",
   "execution_count": 23,
   "metadata": {
    "collapsed": true
   },
   "outputs": [],
   "source": [
    "class YelpScraper:\n",
    "    def __init__():\n",
    "        self.fields = {\n",
    "            'name': [],\n",
    "            'rating': [],\n",
    "            'review_count': [],\n",
    "            'address': [],\n",
    "            'barrio': [],\n",
    "            'price': []\n",
    "        }\n",
    "        self.url = f\"https://www.yelp.com/search?find_desc=brunch&find_loc=Buenos+Aires%2C+Argentina&start={multiple}\"\n",
    "        self.results = None \n",
    "    \n",
    "    def scrape(self, start, end):\n",
    "        for multiple in range(start, end, 10):\n",
    "            page = urlopen(self.url) \n",
    "            soup = BeautifulSoup(page, 'html.parser')\n",
    "            search_results = (\n",
    "                soup\n",
    "                .find('div', {'id': 'super-container'})\n",
    "                .find('div', {'class': 'search-results-content'})\n",
    "                .find_all('li', {'class': 'regular-search-result'})\n",
    "            )    \n",
    "            # iterate through search results\n",
    "            for result in search_results:\n",
    "                self._get_name(result)\n",
    "                self._get_barrio(result)\n",
    "                self._get_address(result)\n",
    "                self._get_rating(result)\n",
    "                self._get_review_count(result)\n",
    "                self._get_price(result)  \n",
    "                \n",
    "            print(f'{multiple+10} results scraped!')\n",
    "            time.sleep(60)\n",
    "            \n",
    "        self.results = pd.DataFrame(self.fields)\n",
    "    \n",
    "    def scrub(self, results):\n",
    "        self.results['barrio'] = self.results['barrio'].apply(self._clean_barrio)\n",
    "        self.results['address'] = self.results['address'].apply(self._clean_address)\n",
    "        self.results['rating'] = self.results['rating'].apply(self._clean_rating)\n",
    "        self.results['review_count'] = self.results['review_count'].apply(self._clean_review_count)\n",
    "    \n",
    "    def save(self, location):\n",
    "        self.results.to_csv(location, index=False)\n",
    "    \n",
    "    def _get_name(self, result):\n",
    "        try:\n",
    "            name = (result\n",
    "                    .find('div', {'class': 'main-attributes'})\n",
    "                    .find('a', {'class': 'biz-name js-analytics-click'})\n",
    "                    .span\n",
    "                    .string)\n",
    "            self.fields['name'].append(name)\n",
    "            print(name)\n",
    "        except:\n",
    "            self.fields['names'].append('')\n",
    "    \n",
    "    def _get_barrio(self, result):\n",
    "        try:\n",
    "            self.fields['barrio'].append(\n",
    "                result\n",
    "                .find('div', {'class': 'secondary-attributes'})\n",
    "                .span\n",
    "                .string\n",
    "            )\n",
    "        except:\n",
    "            self.fields['barrio'].append('')\n",
    "            \n",
    "    def _get_address(self, result):\n",
    "        try:\n",
    "            self.fields['address'].append(\n",
    "                result\n",
    "                .find('div', {'class': 'secondary-attributes'})\n",
    "                .address\n",
    "                .contents\n",
    "            )\n",
    "        except:\n",
    "            self.fields['address'].append('')\n",
    "    \n",
    "    def _get_rating(self, result):\n",
    "        try:\n",
    "            self.fields['rating'].append(\n",
    "                result\n",
    "                .find('div', {'class': 'main-attributes'})\n",
    "                .find('div', {'class': 'i-stars'})\n",
    "                .attrs['title']\n",
    "            )\n",
    "        except:\n",
    "            self.fields['rating'].append('')\n",
    "    \n",
    "    def _get_review_count(self, result):\n",
    "        try:\n",
    "            self.fields['review_count'].append(\n",
    "                result\n",
    "                .find('div', {'class': 'main-attributes'})\n",
    "                .find('div', {'class': 'biz-rating'})\n",
    "                .span\n",
    "                .string\n",
    "            )\n",
    "        except AttributeError:\n",
    "            self.fields['review_count'].append('')    \n",
    "    \n",
    "    def _get_price(self, result):\n",
    "        try:\n",
    "            self.fields['price'].append(\n",
    "                result\n",
    "                .find('div', {'class': 'main-attributes'})\n",
    "                .find('div', {'class': 'price-category'})\n",
    "                .find('span', {'class': 'business-attribute'})\n",
    "                .string\n",
    "            )\n",
    "        except AttributeError:\n",
    "            self.fields['price'].append('')\n",
    "            \n",
    "    def _clean_barrio(s):\n",
    "        s = s.strip()\n",
    "        if s.lower() == 'phone number':\n",
    "            return ''\n",
    "        else:\n",
    "            return s\n",
    "        \n",
    "    def _clean_address(s):\n",
    "        try:\n",
    "            address_list = ast.literal_eval(s.replace('<br/>,', ''))\n",
    "            return ', '.join([x.strip() for x in address_list])\n",
    "        except:\n",
    "            return ''\n",
    "    \n",
    "    def _clean_rating(s):\n",
    "        rating = 0\n",
    "        try:\n",
    "            for x in s.split(): \n",
    "                try:\n",
    "                    rating = float(x)\n",
    "                except ValueError:\n",
    "                    pass\n",
    "        except AttributeError:\n",
    "            pass\n",
    "        return rating\n",
    "    \n",
    "    def _clean_review_count(s):\n",
    "        try:\n",
    "            for x in s.split(): \n",
    "                if x.isdigit():\n",
    "                    break\n",
    "            return int(x)\n",
    "        except AttributeError:\n",
    "            return 0"
   ]
  },
  {
   "cell_type": "code",
   "execution_count": null,
   "metadata": {
    "collapsed": true
   },
   "outputs": [],
   "source": [
    "ys = YelpScraper()\n",
    "results = ys.scrape()\n",
    "results = results.scrub()"
   ]
  },
  {
   "cell_type": "code",
   "execution_count": 3,
   "metadata": {
    "collapsed": true
   },
   "outputs": [],
   "source": [
    "df = pd.read_csv('/Users/davidfstevens/brunch_places_500.csv')"
   ]
  },
  {
   "cell_type": "code",
   "execution_count": 24,
   "metadata": {},
   "outputs": [],
   "source": [
    "df.to_csv('/Users/davidfstevens/brunch_places_500_cleaned.csv')"
   ]
  },
  {
   "cell_type": "code",
   "execution_count": null,
   "metadata": {
    "collapsed": true
   },
   "outputs": [],
   "source": [
    "price:string, review_count:integer, rating:float, barrio:string"
   ]
  },
  {
   "cell_type": "code",
   "execution_count": 27,
   "metadata": {},
   "outputs": [
    {
     "data": {
      "text/html": [
       "<div>\n",
       "<style>\n",
       "    .dataframe thead tr:only-child th {\n",
       "        text-align: right;\n",
       "    }\n",
       "\n",
       "    .dataframe thead th {\n",
       "        text-align: left;\n",
       "    }\n",
       "\n",
       "    .dataframe tbody tr th {\n",
       "        vertical-align: top;\n",
       "    }\n",
       "</style>\n",
       "<table border=\"1\" class=\"dataframe\">\n",
       "  <thead>\n",
       "    <tr style=\"text-align: right;\">\n",
       "      <th></th>\n",
       "      <th>name</th>\n",
       "      <th>price</th>\n",
       "      <th>review_count</th>\n",
       "      <th>rating</th>\n",
       "      <th>barrio</th>\n",
       "      <th>address</th>\n",
       "    </tr>\n",
       "  </thead>\n",
       "  <tbody>\n",
       "    <tr>\n",
       "      <th>303</th>\n",
       "      <td>El Figón de Bonilla</td>\n",
       "      <td>NaN</td>\n",
       "      <td>1</td>\n",
       "      <td>3.0</td>\n",
       "      <td>San Nicolas</td>\n",
       "      <td>Av. Leandro Alem 673, C1001AAB Buenos Aires, A...</td>\n",
       "    </tr>\n",
       "  </tbody>\n",
       "</table>\n",
       "</div>"
      ],
      "text/plain": [
       "                    name price  review_count  rating       barrio  \\\n",
       "303  El Figón de Bonilla   NaN             1     3.0  San Nicolas   \n",
       "\n",
       "                                               address  \n",
       "303  Av. Leandro Alem 673, C1001AAB Buenos Aires, A...  "
      ]
     },
     "execution_count": 27,
     "metadata": {},
     "output_type": "execute_result"
    }
   ],
   "source": [
    "df[df['name'] == 'El Figón de Bonilla']"
   ]
  },
  {
   "cell_type": "code",
   "execution_count": 34,
   "metadata": {},
   "outputs": [
    {
     "data": {
      "text/plain": [
       "name                                                NaN\n",
       "price                                               NaN\n",
       "review_count                                          0\n",
       "rating                                                0\n",
       "barrio                                          Palermo\n",
       "address         Arce 901, C1426 Buenos Aires, Argentina\n",
       "Name: 304, dtype: object"
      ]
     },
     "execution_count": 34,
     "metadata": {},
     "output_type": "execute_result"
    }
   ],
   "source": [
    "df.iloc[304]"
   ]
  },
  {
   "cell_type": "code",
   "execution_count": 36,
   "metadata": {},
   "outputs": [],
   "source": [
    "df = df[~df.name.isnull()]"
   ]
  },
  {
   "cell_type": "code",
   "execution_count": 40,
   "metadata": {},
   "outputs": [
    {
     "name": "stderr",
     "output_type": "stream",
     "text": [
      "/Library/Frameworks/Python.framework/Versions/3.6/lib/python3.6/site-packages/pandas/core/indexing.py:517: SettingWithCopyWarning: \n",
      "A value is trying to be set on a copy of a slice from a DataFrame.\n",
      "Try using .loc[row_indexer,col_indexer] = value instead\n",
      "\n",
      "See the caveats in the documentation: http://pandas.pydata.org/pandas-docs/stable/indexing.html#indexing-view-versus-copy\n",
      "  self.obj[item] = s\n"
     ]
    }
   ],
   "source": [
    "df.loc[:,'name'] = df['name'].fillna('')\n",
    "df.loc[:,'price'] = df['price'].fillna('')\n",
    "df.loc[:,'review_count'] = df['review_count'].fillna(0)\n",
    "df.loc[:,'rating'] = df['rating'].fillna(0.0)\n",
    "df.loc[:,'barrio'] = df['barrio'].fillna('')\n",
    "df.loc[:,'address'] = df['address'].fillna('')"
   ]
  },
  {
   "cell_type": "code",
   "execution_count": 43,
   "metadata": {},
   "outputs": [],
   "source": [
    "df.to_csv('/Users/davidfstevens/workspace/brunch_finder/lib/seeds/brunch_places.csv')"
   ]
  },
  {
   "cell_type": "code",
   "execution_count": null,
   "metadata": {
    "collapsed": true
   },
   "outputs": [],
   "source": []
  }
 ],
 "metadata": {
  "kernelspec": {
   "display_name": "Python 3",
   "language": "python",
   "name": "python3"
  }
 },
 "nbformat": 4,
 "nbformat_minor": 2
}
